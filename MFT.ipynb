{
 "cells": [
  {
   "metadata": {},
   "cell_type": "raw",
   "source": [
    "Examples from\n",
    "\n",
    "https://wintoncentre.maths.cam.ac.uk/projects/communicating-results-genetic-testing/"
   ],
   "id": "a7a3ef4af11cfde6"
  },
  {
   "metadata": {
    "ExecuteTime": {
     "end_time": "2025-06-06T11:05:52.650701Z",
     "start_time": "2025-06-06T11:05:49.458103Z"
    }
   },
   "cell_type": "code",
   "source": [
    "import tabula\n",
    "\n",
    "pdf_file = \"PDF/R24-00BX-1.pdf\"\n",
    "#pdf_file = \"PDF/d_neg_v6.pdf\"\n",
    "dfs = tabula.read_pdf(pdf_file, pages=\"all\", stream=True, encoding='cp1252')\n",
    "tabula.environment_info()\n",
    "print(len(dfs))"
   ],
   "id": "71e66c63cec6b377",
   "outputs": [
    {
     "name": "stderr",
     "output_type": "stream",
     "text": [
      "Failed to import jpype dependencies. Fallback to subprocess.\n",
      "No module named 'jpype'\n"
     ]
    },
    {
     "name": "stdout",
     "output_type": "stream",
     "text": [
      "Python version:\n",
      "    3.13.3 (tags/v3.13.3:6280bb5, Apr  8 2025, 14:47:33) [MSC v.1943 64 bit (AMD64)]\n",
      "Java version:\n",
      "    openjdk version \"21.0.1\" 2023-10-17 LTS\r\n",
      "OpenJDK Runtime Environment Microsoft-8526870 (build 21.0.1+12-LTS)\r\n",
      "OpenJDK 64-Bit Server VM Microsoft-8526870 (build 21.0.1+12-LTS, mixed mode, sharing)\n",
      "tabula-py version: 2.10.0\n",
      "platform: Windows-11-10.0.26100-SP0\n",
      "uname:\n",
      "    uname_result(system='Windows', node='DESKTOP-4A7A8NJ', release='11', version='10.0.26100', machine='AMD64')\n",
      "linux_distribution: ('', '', '')\n",
      "mac_ver: ('', ('', '', ''), '')\n",
      "2\n"
     ]
    }
   ],
   "execution_count": 1
  },
  {
   "metadata": {
    "ExecuteTime": {
     "end_time": "2025-06-06T11:05:55.285499Z",
     "start_time": "2025-06-06T11:05:55.280015Z"
    }
   },
   "cell_type": "code",
   "source": "print(len(dfs))",
   "id": "900c08a375d69efb",
   "outputs": [
    {
     "name": "stdout",
     "output_type": "stream",
     "text": [
      "2\n"
     ]
    }
   ],
   "execution_count": 2
  },
  {
   "metadata": {
    "ExecuteTime": {
     "end_time": "2025-06-06T11:05:57.722929Z",
     "start_time": "2025-06-06T11:05:57.712228Z"
    }
   },
   "cell_type": "code",
   "source": "dfs[len(dfs)-1]",
   "id": "fd6b774533192726",
   "outputs": [
    {
     "data": {
      "text/plain": [
       "  HGVS description: NM_001320.6(CSNK2B):c.256C>T p.(Arg86Cys)  \\\n",
       "0    Genomic coordinates: Chr6(GRCh38):g.31668619C>T            \n",
       "\n",
       "             Classification: Likely pathogenic  \n",
       "0  Zygosity: Heterozygous Inheritance: de novo  "
      ],
      "text/html": [
       "<div>\n",
       "<style scoped>\n",
       "    .dataframe tbody tr th:only-of-type {\n",
       "        vertical-align: middle;\n",
       "    }\n",
       "\n",
       "    .dataframe tbody tr th {\n",
       "        vertical-align: top;\n",
       "    }\n",
       "\n",
       "    .dataframe thead th {\n",
       "        text-align: right;\n",
       "    }\n",
       "</style>\n",
       "<table border=\"1\" class=\"dataframe\">\n",
       "  <thead>\n",
       "    <tr style=\"text-align: right;\">\n",
       "      <th></th>\n",
       "      <th>HGVS description: NM_001320.6(CSNK2B):c.256C&gt;T p.(Arg86Cys)</th>\n",
       "      <th>Classification: Likely pathogenic</th>\n",
       "    </tr>\n",
       "  </thead>\n",
       "  <tbody>\n",
       "    <tr>\n",
       "      <th>0</th>\n",
       "      <td>Genomic coordinates: Chr6(GRCh38):g.31668619C&gt;T</td>\n",
       "      <td>Zygosity: Heterozygous Inheritance: de novo</td>\n",
       "    </tr>\n",
       "  </tbody>\n",
       "</table>\n",
       "</div>"
      ]
     },
     "execution_count": 3,
     "metadata": {},
     "output_type": "execute_result"
    }
   ],
   "execution_count": 3
  },
  {
   "metadata": {},
   "cell_type": "markdown",
   "source": [
    "Based on https://build.fhir.org/ig/HL7/genomics-reporting/\n",
    "\n",
    "I think we can build a variant http://hl7.org/fhir/uv/genomics-reporting/StructureDefinition/variant"
   ],
   "id": "30e86df22d216faa"
  },
  {
   "metadata": {
    "ExecuteTime": {
     "end_time": "2025-06-06T10:44:54.177595300Z",
     "start_time": "2025-06-05T15:25:11.995621Z"
    }
   },
   "cell_type": "code",
   "source": [
    "from fhir.resources.observation import Observation,ObservationComponent\n",
    "from fhir.resources.codeableconcept import CodeableConcept\n",
    "from fhir.resources.coding import Coding\n",
    "\n",
    "df = dfs[len(dfs)-1]\n",
    "df['Gene'] = df['Gene'].astype(str)\n",
    "df['HGVS Description'] = df['HGVS Description'].astype(str)\n",
    "df.dtypes"
   ],
   "id": "9533b452e34339c5",
   "outputs": [
    {
     "data": {
      "text/plain": [
       "Gene                       object\n",
       "Zygosity                   object\n",
       "Inheritance                object\n",
       "HGVS Description           object\n",
       "Location: GRCh38 (hg38)    object\n",
       "*Classification            object\n",
       "dtype: object"
      ]
     },
     "execution_count": 53,
     "metadata": {},
     "output_type": "execute_result"
    }
   ],
   "execution_count": 53
  },
  {
   "metadata": {
    "ExecuteTime": {
     "end_time": "2025-06-06T10:44:54.180155900Z",
     "start_time": "2025-06-05T15:25:16.576338Z"
    }
   },
   "cell_type": "code",
   "source": [
    "\n",
    "\n",
    "for i in range(0, len(df)):\n",
    "    if df.loc[i,'Gene'] is not None and df.loc[i,'Gene'] != 'nan':\n",
    "        print('\\n',df.loc[i,'Gene'],'\\n')\n",
    "        observationBase = {\n",
    "            \"status\" : \"final\",\n",
    "            \"category\":[\n",
    "                {\n",
    "                    \"coding\" : [\n",
    "                        {\n",
    "                            \"system\" : \"http://terminology.hl7.org/CodeSystem/observation-category\",\n",
    "                            \"code\" : \"laboratory\"\n",
    "                        }\n",
    "                    ]\n",
    "                },\n",
    "                {\n",
    "                    \"coding\" : [\n",
    "                        {\n",
    "                            \"system\" : \"http://terminology.hl7.org/CodeSystem/v2-0074\",\n",
    "                            \"code\" : \"GE\"\n",
    "                        }\n",
    "                    ]\n",
    "                }\n",
    "            ],\n",
    "            \"code\" : {\n",
    "                \"coding\" : [\n",
    "                    {\n",
    "                        \"system\" : \"http://loinc.org\",\n",
    "                        \"code\" : \"69548-6\",\n",
    "                        \"display\" : \"Genetic variant assessment\"\n",
    "                    }\n",
    "                ]\n",
    "            },\n",
    "            \"valueCodeableConcept\" : {\n",
    "                \"coding\" : [\n",
    "                    {\n",
    "                        \"system\" : \"http://loinc.org\",\n",
    "                        \"code\" : \"LA9633-4\",\n",
    "                        \"display\" : \"Present\"\n",
    "                    }\n",
    "                ]\n",
    "            },\n",
    "            \"subject\" : {\n",
    "                \"reference\" : \"urn:uuid:d6faafcf-db64-4c11-9da8-25f36774c1bd\",\n",
    "                \"identifier\" : {\n",
    "                    \"system\" : \"https://fhir.nhs.uk/Id/nhs-number\",\n",
    "                    \"value\" : \"9449305552\"\n",
    "                },\n",
    "                \"display\" : \"Octavia CHISLETT\"\n",
    "            },\n",
    "            \"method\" : {\n",
    "                \"coding\" : [\n",
    "                    {\n",
    "                        \"system\" : \"http://loinc.org\",\n",
    "                        \"code\" : \"LA26398-0\",\n",
    "                        \"display\" : \"Sequencing\"\n",
    "                    }\n",
    "                ]\n",
    "            },\n",
    "            \"component\" : []\n",
    "        }\n",
    "        obs = Observation(**observationBase)\n",
    "        genename = \"NK\"\n",
    "        if df.loc[i,'Gene'] == 'BRCA1':\n",
    "            genename = \"HGNC:1100\"\n",
    "        if df.loc[i,'Gene'] == 'BRCA2':\n",
    "            genename = \"HGNC:1101\"\n",
    "        if df.loc[i,'Gene'] == 'PALB2':\n",
    "            genename = \"HGNC:26144\"\n",
    "        geneData = {\n",
    "            \"code\" : {\n",
    "                \"coding\" : [\n",
    "                    {\n",
    "                        \"system\" : \"http://loinc.org\",\n",
    "                        \"code\" : \"48018-6\"\n",
    "                    }\n",
    "                ]\n",
    "            },\n",
    "            \"valueCodeableConcept\" : {\n",
    "                \"coding\" : [\n",
    "                    {\n",
    "                        \"system\" : \"http://www.genenames.org\",\n",
    "                        \"code\" : genename,\n",
    "                        \"display\" : df.loc[i,'Gene']\n",
    "                    }\n",
    "                ]\n",
    "            }\n",
    "        }\n",
    "        gene = ObservationComponent(**geneData)\n",
    "        obs.component.append(gene)\n",
    "\n",
    "        if df.loc[i,'Zygosity'] == 'Heterozygous':\n",
    "            alleData = {\n",
    "                \"code\" : {\n",
    "                    \"coding\" : [\n",
    "                        {\n",
    "                            \"system\" : \"http://loinc.org\",\n",
    "                            \"code\" : \"53034-5\",\n",
    "                            \"display\" : \"Allelic state\"\n",
    "                        }\n",
    "                    ]\n",
    "                },\n",
    "                \"valueCodeableConcept\" : {\n",
    "                    \"coding\" : [\n",
    "                        {\n",
    "                            \"system\" : \"http://loinc.org\",\n",
    "                            \"code\" : \"LA6706-1\",\n",
    "                            \"display\" : \"Heterozygous\"\n",
    "                        }\n",
    "                    ]\n",
    "                }\n",
    "            }\n",
    "            alle = ObservationComponent(**alleData)\n",
    "            obs.component.append(alle)\n",
    "        if df.loc[i,'HGVS Description'] is not None and df.loc[i,'HGVS Description'] != 'nan':\n",
    "            code = df.loc[i,'Gene'] + \":\" + df.loc[i,'HGVS Description']\n",
    "            hgvsData = {\n",
    "                \"code\" : {\n",
    "                    \"coding\" : [\n",
    "                        {\n",
    "                            \"system\" : \"http://loinc.org\",\n",
    "                            \"code\" : \"48004-6\",\n",
    "                            \"display\": \"DNA change\"\n",
    "                        }\n",
    "                    ]\n",
    "                },\n",
    "                \"valueCodeableConcept\" : {\n",
    "                    \"coding\" : [\n",
    "                        {\n",
    "                            \"system\" : \"http://varnomen.hgvs.org\",\n",
    "                            \"code\" : code\n",
    "                        }\n",
    "                    ]\n",
    "                }\n",
    "            }\n",
    "            hgvs = ObservationComponent(**hgvsData)\n",
    "            obs.component.append(hgvs)\n",
    "\n",
    "        json_str = obs.model_dump_json()\n",
    "        print(json_str)"
   ],
   "id": "d3fe0e424488a4bb",
   "outputs": [
    {
     "name": "stdout",
     "output_type": "stream",
     "text": [
      "\n",
      " BRCA1 \n",
      "\n",
      "{\"resourceType\":\"Observation\",\"status\":\"final\",\"category\":[{\"coding\":[{\"system\":\"http://terminology.hl7.org/CodeSystem/observation-category\",\"code\":\"laboratory\"}]},{\"coding\":[{\"system\":\"http://terminology.hl7.org/CodeSystem/v2-0074\",\"code\":\"GE\"}]}],\"code\":{\"coding\":[{\"system\":\"http://loinc.org\",\"code\":\"69548-6\",\"display\":\"Genetic variant assessment\"}]},\"subject\":{\"reference\":\"urn:uuid:d6faafcf-db64-4c11-9da8-25f36774c1bd\",\"identifier\":{\"system\":\"https://fhir.nhs.uk/Id/nhs-number\",\"value\":\"9449305552\"},\"display\":\"Octavia CHISLETT\"},\"valueCodeableConcept\":{\"coding\":[{\"system\":\"http://loinc.org\",\"code\":\"LA9633-4\",\"display\":\"Present\"}]},\"method\":{\"coding\":[{\"system\":\"http://loinc.org\",\"code\":\"LA26398-0\",\"display\":\"Sequencing\"}]},\"component\":[{\"code\":{\"coding\":[{\"system\":\"http://loinc.org\",\"code\":\"48018-6\"}]},\"valueCodeableConcept\":{\"coding\":[{\"system\":\"http://www.genenames.org\",\"code\":\"HGNC:1100\",\"display\":\"BRCA1\"}]}},{\"code\":{\"coding\":[{\"system\":\"http://loinc.org\",\"code\":\"53034-5\",\"display\":\"Allelic state\"}]},\"valueCodeableConcept\":{\"coding\":[{\"system\":\"http://loinc.org\",\"code\":\"LA6706-1\",\"display\":\"Heterozygous\"}]}},{\"code\":{\"coding\":[{\"system\":\"http://loinc.org\",\"code\":\"48004-6\",\"display\":\"DNA change\"}]},\"valueCodeableConcept\":{\"coding\":[{\"system\":\"http://varnomen.hgvs.org\",\"code\":\"BRCA1:c.3143delG p.(Gly1048ValfsTer14)\"}]}}]}\n",
      "\n",
      " BRCA2 \n",
      "\n",
      "{\"resourceType\":\"Observation\",\"status\":\"final\",\"category\":[{\"coding\":[{\"system\":\"http://terminology.hl7.org/CodeSystem/observation-category\",\"code\":\"laboratory\"}]},{\"coding\":[{\"system\":\"http://terminology.hl7.org/CodeSystem/v2-0074\",\"code\":\"GE\"}]}],\"code\":{\"coding\":[{\"system\":\"http://loinc.org\",\"code\":\"69548-6\",\"display\":\"Genetic variant assessment\"}]},\"subject\":{\"reference\":\"urn:uuid:d6faafcf-db64-4c11-9da8-25f36774c1bd\",\"identifier\":{\"system\":\"https://fhir.nhs.uk/Id/nhs-number\",\"value\":\"9449305552\"},\"display\":\"Octavia CHISLETT\"},\"valueCodeableConcept\":{\"coding\":[{\"system\":\"http://loinc.org\",\"code\":\"LA9633-4\",\"display\":\"Present\"}]},\"method\":{\"coding\":[{\"system\":\"http://loinc.org\",\"code\":\"LA26398-0\",\"display\":\"Sequencing\"}]},\"component\":[{\"code\":{\"coding\":[{\"system\":\"http://loinc.org\",\"code\":\"48018-6\"}]},\"valueCodeableConcept\":{\"coding\":[{\"system\":\"http://www.genenames.org\",\"code\":\"HGNC:1101\",\"display\":\"BRCA2\"}]}}]}\n",
      "\n",
      " PALB2 \n",
      "\n",
      "{\"resourceType\":\"Observation\",\"status\":\"final\",\"category\":[{\"coding\":[{\"system\":\"http://terminology.hl7.org/CodeSystem/observation-category\",\"code\":\"laboratory\"}]},{\"coding\":[{\"system\":\"http://terminology.hl7.org/CodeSystem/v2-0074\",\"code\":\"GE\"}]}],\"code\":{\"coding\":[{\"system\":\"http://loinc.org\",\"code\":\"69548-6\",\"display\":\"Genetic variant assessment\"}]},\"subject\":{\"reference\":\"urn:uuid:d6faafcf-db64-4c11-9da8-25f36774c1bd\",\"identifier\":{\"system\":\"https://fhir.nhs.uk/Id/nhs-number\",\"value\":\"9449305552\"},\"display\":\"Octavia CHISLETT\"},\"valueCodeableConcept\":{\"coding\":[{\"system\":\"http://loinc.org\",\"code\":\"LA9633-4\",\"display\":\"Present\"}]},\"method\":{\"coding\":[{\"system\":\"http://loinc.org\",\"code\":\"LA26398-0\",\"display\":\"Sequencing\"}]},\"component\":[{\"code\":{\"coding\":[{\"system\":\"http://loinc.org\",\"code\":\"48018-6\"}]},\"valueCodeableConcept\":{\"coding\":[{\"system\":\"http://www.genenames.org\",\"code\":\"HGNC:26144\",\"display\":\"PALB2\"}]}}]}\n"
     ]
    }
   ],
   "execution_count": 55
  },
  {
   "metadata": {},
   "cell_type": "code",
   "outputs": [],
   "execution_count": null,
   "source": "",
   "id": "de107e867fa8d296"
  }
 ],
 "metadata": {
  "kernelspec": {
   "display_name": "Python 3",
   "language": "python",
   "name": "python3"
  },
  "language_info": {
   "codemirror_mode": {
    "name": "ipython",
    "version": 2
   },
   "file_extension": ".py",
   "mimetype": "text/x-python",
   "name": "python",
   "nbconvert_exporter": "python",
   "pygments_lexer": "ipython2",
   "version": "2.7.6"
  }
 },
 "nbformat": 4,
 "nbformat_minor": 5
}
