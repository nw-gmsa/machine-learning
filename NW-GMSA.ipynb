{
 "cells": [
  {
   "metadata": {},
   "cell_type": "markdown",
   "source": "# NW GMSA",
   "id": "de49a24d345a0481"
  },
  {
   "metadata": {},
   "cell_type": "markdown",
   "source": "## pymupdf",
   "id": "a7b66122884ddce7"
  },
  {
   "metadata": {},
   "cell_type": "raw",
   "source": "",
   "id": "a7a3ef4af11cfde6"
  },
  {
   "metadata": {
    "ExecuteTime": {
     "end_time": "2025-06-07T05:43:26.615226Z",
     "start_time": "2025-06-07T05:43:26.578042Z"
    }
   },
   "cell_type": "code",
   "source": [
    "import pymupdf # imports the pymupdf library\n",
    "\n",
    "pdf_file = \"PDF/R24-00BX-1.pdf\"\n",
    "doc = pymupdf.open(pdf_file)\n",
    "\n",
    "html_text = \"\"\n",
    "all_text = \"\"\n",
    "for page in doc:  # iterate the document pages\n",
    "    page.read_contents()\n",
    "    html_text += page.get_text('html', clip = None)\n",
    "    all_text += page.get_text('text', clip = None)\n",
    "\n",
    "with open(\"nw-gmsa-pymupfd.html\", \"wb\", ) as f:\n",
    "    f.write(html_text.encode(\"utf-8\"))\n",
    "with open(\"nw-gmsa-pymupfd.txt\", \"wb\", ) as f:\n",
    "    f.write(all_text.encode(\"utf-8\"))"
   ],
   "id": "6c8e6f0199ed3198",
   "outputs": [],
   "execution_count": 36
  },
  {
   "metadata": {},
   "cell_type": "markdown",
   "source": "## PyPDF2",
   "id": "d0bf75d1e719cafd"
  },
  {
   "metadata": {
    "ExecuteTime": {
     "end_time": "2025-06-07T05:43:26.676230Z",
     "start_time": "2025-06-07T05:43:26.632598Z"
    }
   },
   "cell_type": "code",
   "source": [
    "from PyPDF2 import PdfReader\n",
    "\n",
    "pdf_object = PdfReader(pdf_file)\n",
    "all_text = \"\"\n",
    "for page in pdf_object.pages:\n",
    "    all_text += page.extract_text() + \"\\n\"\n",
    "with open(\"nw-gmsa-PyPDF2.txt\", \"wb\", ) as f:\n",
    "    f.write(all_text.encode(\"utf-8\"))"
   ],
   "id": "2ff0088280ffe6e2",
   "outputs": [],
   "execution_count": 37
  },
  {
   "metadata": {},
   "cell_type": "markdown",
   "source": "## tabula",
   "id": "5380e64fea4b3e5e"
  },
  {
   "metadata": {
    "ExecuteTime": {
     "end_time": "2025-06-07T05:43:29.389925Z",
     "start_time": "2025-06-07T05:43:26.700751Z"
    }
   },
   "cell_type": "code",
   "source": [
    "import tabula\n",
    "\n",
    "dfs = tabula.read_pdf(pdf_file, pages=\"all\", stream=True, encoding='cp1252')\n",
    "tabula.environment_info()\n",
    "print(len(dfs))"
   ],
   "id": "f93c1be9c8155129",
   "outputs": [
    {
     "name": "stdout",
     "output_type": "stream",
     "text": [
      "Python version:\n",
      "    3.13.3 (v3.13.3:6280bb54784, Apr  8 2025, 10:47:54) [Clang 15.0.0 (clang-1500.3.9.4)]\n",
      "Java version:\n",
      "    openjdk version \"20.0.2\" 2023-07-18\n",
      "OpenJDK Runtime Environment (build 20.0.2+9-78)\n",
      "OpenJDK 64-Bit Server VM (build 20.0.2+9-78, mixed mode, sharing)\n",
      "tabula-py version: 2.10.0\n",
      "platform: macOS-15.5-x86_64-i386-64bit-Mach-O\n",
      "uname:\n",
      "    uname_result(system='Darwin', node='Freya.local', release='24.5.0', version='Darwin Kernel Version 24.5.0: Tue Apr 22 19:53:26 PDT 2025; root:xnu-11417.121.6~2/RELEASE_X86_64', machine='x86_64')\n",
      "linux_distribution: ('Darwin', '24.5.0', '')\n",
      "mac_ver: ('15.5', ('', '', ''), 'x86_64')\n",
      "2\n"
     ]
    }
   ],
   "execution_count": 38
  },
  {
   "metadata": {
    "ExecuteTime": {
     "end_time": "2025-06-07T05:43:29.456641Z",
     "start_time": "2025-06-07T05:43:29.437006Z"
    }
   },
   "cell_type": "code",
   "source": "dfs[0]",
   "id": "1bf86c112b13af91",
   "outputs": [
    {
     "data": {
      "text/plain": [
       "        Forename: Geneticsthree    Report No:        R24-00BX-1  Unnamed: 0  \\\n",
       "0        Surname:        BEAKER  Hospital No:      Not provided         NaN   \n",
       "1            Sex:          Male     Other No:      Not provided         NaN   \n",
       "2            DoB:    01/01/1970       Sample:    DNA (External)         NaN   \n",
       "3         NHS No:           NaN           NaN               NaN         NaN   \n",
       "4  Hive Order ID:    1000104558           NaN               NaN         NaN   \n",
       "5      Collected:  Not provided     Received:  03/06/2024 12:12  Activated:   \n",
       "\n",
       "   Unnamed: 1  \n",
       "0         NaN  \n",
       "1         NaN  \n",
       "2         NaN  \n",
       "3         NaN  \n",
       "4         NaN  \n",
       "5  03/06/2024  "
      ],
      "text/html": [
       "<div>\n",
       "<style scoped>\n",
       "    .dataframe tbody tr th:only-of-type {\n",
       "        vertical-align: middle;\n",
       "    }\n",
       "\n",
       "    .dataframe tbody tr th {\n",
       "        vertical-align: top;\n",
       "    }\n",
       "\n",
       "    .dataframe thead th {\n",
       "        text-align: right;\n",
       "    }\n",
       "</style>\n",
       "<table border=\"1\" class=\"dataframe\">\n",
       "  <thead>\n",
       "    <tr style=\"text-align: right;\">\n",
       "      <th></th>\n",
       "      <th>Forename:</th>\n",
       "      <th>Geneticsthree</th>\n",
       "      <th>Report No:</th>\n",
       "      <th>R24-00BX-1</th>\n",
       "      <th>Unnamed: 0</th>\n",
       "      <th>Unnamed: 1</th>\n",
       "    </tr>\n",
       "  </thead>\n",
       "  <tbody>\n",
       "    <tr>\n",
       "      <th>0</th>\n",
       "      <td>Surname:</td>\n",
       "      <td>BEAKER</td>\n",
       "      <td>Hospital No:</td>\n",
       "      <td>Not provided</td>\n",
       "      <td>NaN</td>\n",
       "      <td>NaN</td>\n",
       "    </tr>\n",
       "    <tr>\n",
       "      <th>1</th>\n",
       "      <td>Sex:</td>\n",
       "      <td>Male</td>\n",
       "      <td>Other No:</td>\n",
       "      <td>Not provided</td>\n",
       "      <td>NaN</td>\n",
       "      <td>NaN</td>\n",
       "    </tr>\n",
       "    <tr>\n",
       "      <th>2</th>\n",
       "      <td>DoB:</td>\n",
       "      <td>01/01/1970</td>\n",
       "      <td>Sample:</td>\n",
       "      <td>DNA (External)</td>\n",
       "      <td>NaN</td>\n",
       "      <td>NaN</td>\n",
       "    </tr>\n",
       "    <tr>\n",
       "      <th>3</th>\n",
       "      <td>NHS No:</td>\n",
       "      <td>NaN</td>\n",
       "      <td>NaN</td>\n",
       "      <td>NaN</td>\n",
       "      <td>NaN</td>\n",
       "      <td>NaN</td>\n",
       "    </tr>\n",
       "    <tr>\n",
       "      <th>4</th>\n",
       "      <td>Hive Order ID:</td>\n",
       "      <td>1000104558</td>\n",
       "      <td>NaN</td>\n",
       "      <td>NaN</td>\n",
       "      <td>NaN</td>\n",
       "      <td>NaN</td>\n",
       "    </tr>\n",
       "    <tr>\n",
       "      <th>5</th>\n",
       "      <td>Collected:</td>\n",
       "      <td>Not provided</td>\n",
       "      <td>Received:</td>\n",
       "      <td>03/06/2024 12:12</td>\n",
       "      <td>Activated:</td>\n",
       "      <td>03/06/2024</td>\n",
       "    </tr>\n",
       "  </tbody>\n",
       "</table>\n",
       "</div>"
      ]
     },
     "execution_count": 39,
     "metadata": {},
     "output_type": "execute_result"
    }
   ],
   "execution_count": 39
  },
  {
   "metadata": {
    "ExecuteTime": {
     "end_time": "2025-06-07T05:43:29.583099Z",
     "start_time": "2025-06-07T05:43:29.576170Z"
    }
   },
   "cell_type": "code",
   "source": "dfs[1]",
   "id": "beba946b7c8c421e",
   "outputs": [
    {
     "data": {
      "text/plain": [
       "  HGVS description: NM_001320.6(CSNK2B):c.256C>T p.(Arg86Cys)  \\\n",
       "0    Genomic coordinates: Chr6(GRCh38):g.31668619C>T            \n",
       "\n",
       "             Classification: Likely pathogenic  \n",
       "0  Zygosity: Heterozygous Inheritance: de novo  "
      ],
      "text/html": [
       "<div>\n",
       "<style scoped>\n",
       "    .dataframe tbody tr th:only-of-type {\n",
       "        vertical-align: middle;\n",
       "    }\n",
       "\n",
       "    .dataframe tbody tr th {\n",
       "        vertical-align: top;\n",
       "    }\n",
       "\n",
       "    .dataframe thead th {\n",
       "        text-align: right;\n",
       "    }\n",
       "</style>\n",
       "<table border=\"1\" class=\"dataframe\">\n",
       "  <thead>\n",
       "    <tr style=\"text-align: right;\">\n",
       "      <th></th>\n",
       "      <th>HGVS description: NM_001320.6(CSNK2B):c.256C&gt;T p.(Arg86Cys)</th>\n",
       "      <th>Classification: Likely pathogenic</th>\n",
       "    </tr>\n",
       "  </thead>\n",
       "  <tbody>\n",
       "    <tr>\n",
       "      <th>0</th>\n",
       "      <td>Genomic coordinates: Chr6(GRCh38):g.31668619C&gt;T</td>\n",
       "      <td>Zygosity: Heterozygous Inheritance: de novo</td>\n",
       "    </tr>\n",
       "  </tbody>\n",
       "</table>\n",
       "</div>"
      ]
     },
     "execution_count": 40,
     "metadata": {},
     "output_type": "execute_result"
    }
   ],
   "execution_count": 40
  }
 ],
 "metadata": {
  "kernelspec": {
   "display_name": "Python 3",
   "language": "python",
   "name": "python3"
  },
  "language_info": {
   "codemirror_mode": {
    "name": "ipython",
    "version": 2
   },
   "file_extension": ".py",
   "mimetype": "text/x-python",
   "name": "python",
   "nbconvert_exporter": "python",
   "pygments_lexer": "ipython2",
   "version": "2.7.6"
  }
 },
 "nbformat": 4,
 "nbformat_minor": 5
}
