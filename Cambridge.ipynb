{
 "cells": [
  {
   "metadata": {},
   "cell_type": "raw",
   "source": [
    "Examples from\n",
    "\n",
    "https://wintoncentre.maths.cam.ac.uk/projects/communicating-results-genetic-testing/"
   ],
   "id": "a7a3ef4af11cfde6"
  },
  {
   "metadata": {
    "ExecuteTime": {
     "end_time": "2025-06-05T13:21:53.545637Z",
     "start_time": "2025-06-05T13:21:48.187952Z"
    }
   },
   "cell_type": "code",
   "source": [
    "import tabula\n",
    "pdf_file = \"PDF/d_pos_v6.pdf\"\n",
    "#pdf_file = \"PDF/d_neg_v6.pdf\"\n",
    "dfs = tabula.read_pdf(pdf_file, pages=\"all\", stream=True, encoding='cp1252')\n",
    "tabula.environment_info()\n",
    "print(len(dfs))"
   ],
   "id": "71e66c63cec6b377",
   "outputs": [
    {
     "name": "stdout",
     "output_type": "stream",
     "text": [
      "Python version:\n",
      "    3.13.3 (v3.13.3:6280bb54784, Apr  8 2025, 10:47:54) [Clang 15.0.0 (clang-1500.3.9.4)]\n",
      "Java version:\n",
      "    openjdk version \"20.0.2\" 2023-07-18\n",
      "OpenJDK Runtime Environment (build 20.0.2+9-78)\n",
      "OpenJDK 64-Bit Server VM (build 20.0.2+9-78, mixed mode, sharing)\n",
      "tabula-py version: 2.10.0\n",
      "platform: macOS-15.5-x86_64-i386-64bit-Mach-O\n",
      "uname:\n",
      "    uname_result(system='Darwin', node='Freya.local', release='24.5.0', version='Darwin Kernel Version 24.5.0: Tue Apr 22 19:53:26 PDT 2025; root:xnu-11417.121.6~2/RELEASE_X86_64', machine='x86_64')\n",
      "linux_distribution: ('Darwin', '24.5.0', '')\n",
      "mac_ver: ('15.5', ('', '', ''), 'x86_64')\n",
      "3\n"
     ]
    }
   ],
   "execution_count": 13
  },
  {
   "metadata": {
    "ExecuteTime": {
     "end_time": "2025-06-05T13:21:53.603280Z",
     "start_time": "2025-06-05T13:21:53.598924Z"
    }
   },
   "cell_type": "code",
   "source": "print(len(dfs))",
   "id": "900c08a375d69efb",
   "outputs": [
    {
     "name": "stdout",
     "output_type": "stream",
     "text": [
      "3\n"
     ]
    }
   ],
   "execution_count": 14
  },
  {
   "metadata": {
    "ExecuteTime": {
     "end_time": "2025-06-05T13:21:53.675168Z",
     "start_time": "2025-06-05T13:21:53.663873Z"
    }
   },
   "cell_type": "code",
   "source": "dfs[len(dfs)-1]",
   "id": "fd6b774533192726",
   "outputs": [
    {
     "data": {
      "text/plain": [
       "    Gene          Zygosity Inheritance                  HGVS Description  \\\n",
       "0  BRCA1      Heterozygous   Autosomal  c.3143delG p.(Gly1048ValfsTer14)   \n",
       "1    NaN               NaN    dominant                               NaN   \n",
       "2  BRCA2     No clinically         NaN                               NaN   \n",
       "3    NaN        pathogenic         NaN                               NaN   \n",
       "4    NaN  variant detected         NaN                               NaN   \n",
       "5  PALB2     No clinically         NaN                               NaN   \n",
       "6    NaN        pathogenic         NaN                               NaN   \n",
       "7    NaN  variant detected         NaN                               NaN   \n",
       "\n",
       "  Location: GRCh38 (hg38) *Classification  \n",
       "0   17: 43092388 (GRCh38)      Pathogenic  \n",
       "1                     NaN             NaN  \n",
       "2                     NaN             Not  \n",
       "3                     NaN      applicable  \n",
       "4                     NaN             NaN  \n",
       "5                     NaN             Not  \n",
       "6                     NaN      applicable  \n",
       "7                     NaN             NaN  "
      ],
      "text/html": [
       "<div>\n",
       "<style scoped>\n",
       "    .dataframe tbody tr th:only-of-type {\n",
       "        vertical-align: middle;\n",
       "    }\n",
       "\n",
       "    .dataframe tbody tr th {\n",
       "        vertical-align: top;\n",
       "    }\n",
       "\n",
       "    .dataframe thead th {\n",
       "        text-align: right;\n",
       "    }\n",
       "</style>\n",
       "<table border=\"1\" class=\"dataframe\">\n",
       "  <thead>\n",
       "    <tr style=\"text-align: right;\">\n",
       "      <th></th>\n",
       "      <th>Gene</th>\n",
       "      <th>Zygosity</th>\n",
       "      <th>Inheritance</th>\n",
       "      <th>HGVS Description</th>\n",
       "      <th>Location: GRCh38 (hg38)</th>\n",
       "      <th>*Classification</th>\n",
       "    </tr>\n",
       "  </thead>\n",
       "  <tbody>\n",
       "    <tr>\n",
       "      <th>0</th>\n",
       "      <td>BRCA1</td>\n",
       "      <td>Heterozygous</td>\n",
       "      <td>Autosomal</td>\n",
       "      <td>c.3143delG p.(Gly1048ValfsTer14)</td>\n",
       "      <td>17: 43092388 (GRCh38)</td>\n",
       "      <td>Pathogenic</td>\n",
       "    </tr>\n",
       "    <tr>\n",
       "      <th>1</th>\n",
       "      <td>NaN</td>\n",
       "      <td>NaN</td>\n",
       "      <td>dominant</td>\n",
       "      <td>NaN</td>\n",
       "      <td>NaN</td>\n",
       "      <td>NaN</td>\n",
       "    </tr>\n",
       "    <tr>\n",
       "      <th>2</th>\n",
       "      <td>BRCA2</td>\n",
       "      <td>No clinically</td>\n",
       "      <td>NaN</td>\n",
       "      <td>NaN</td>\n",
       "      <td>NaN</td>\n",
       "      <td>Not</td>\n",
       "    </tr>\n",
       "    <tr>\n",
       "      <th>3</th>\n",
       "      <td>NaN</td>\n",
       "      <td>pathogenic</td>\n",
       "      <td>NaN</td>\n",
       "      <td>NaN</td>\n",
       "      <td>NaN</td>\n",
       "      <td>applicable</td>\n",
       "    </tr>\n",
       "    <tr>\n",
       "      <th>4</th>\n",
       "      <td>NaN</td>\n",
       "      <td>variant detected</td>\n",
       "      <td>NaN</td>\n",
       "      <td>NaN</td>\n",
       "      <td>NaN</td>\n",
       "      <td>NaN</td>\n",
       "    </tr>\n",
       "    <tr>\n",
       "      <th>5</th>\n",
       "      <td>PALB2</td>\n",
       "      <td>No clinically</td>\n",
       "      <td>NaN</td>\n",
       "      <td>NaN</td>\n",
       "      <td>NaN</td>\n",
       "      <td>Not</td>\n",
       "    </tr>\n",
       "    <tr>\n",
       "      <th>6</th>\n",
       "      <td>NaN</td>\n",
       "      <td>pathogenic</td>\n",
       "      <td>NaN</td>\n",
       "      <td>NaN</td>\n",
       "      <td>NaN</td>\n",
       "      <td>applicable</td>\n",
       "    </tr>\n",
       "    <tr>\n",
       "      <th>7</th>\n",
       "      <td>NaN</td>\n",
       "      <td>variant detected</td>\n",
       "      <td>NaN</td>\n",
       "      <td>NaN</td>\n",
       "      <td>NaN</td>\n",
       "      <td>NaN</td>\n",
       "    </tr>\n",
       "  </tbody>\n",
       "</table>\n",
       "</div>"
      ]
     },
     "execution_count": 15,
     "metadata": {},
     "output_type": "execute_result"
    }
   ],
   "execution_count": 15
  }
 ],
 "metadata": {
  "kernelspec": {
   "display_name": "Python 3",
   "language": "python",
   "name": "python3"
  },
  "language_info": {
   "codemirror_mode": {
    "name": "ipython",
    "version": 2
   },
   "file_extension": ".py",
   "mimetype": "text/x-python",
   "name": "python",
   "nbconvert_exporter": "python",
   "pygments_lexer": "ipython2",
   "version": "2.7.6"
  }
 },
 "nbformat": 4,
 "nbformat_minor": 5
}
